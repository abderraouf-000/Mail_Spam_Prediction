{
 "cells": [
  {
   "cell_type": "markdown",
   "id": "7a4eb6ac",
   "metadata": {},
   "source": [
    "# Importing needed libraries"
   ]
  },
  {
   "cell_type": "code",
   "execution_count": 85,
   "id": "c6828512",
   "metadata": {},
   "outputs": [],
   "source": [
    "import numpy as np\n",
    "import seaborn as sns\n",
    "import pandas as pd\n",
    "import nltk\n",
    "import matplotlib.pyplot as plt\n",
    "import sklearn.datasets as sd\n",
    "from sklearn.linear_model import LogisticRegression\n",
    "from sklearn.metrics import accuracy_score , recall_score\n",
    "from sklearn.model_selection import train_test_split \n",
    "from sklearn.feature_extraction.text import TfidfVectorizer\n",
    "import sklearn.feature_extraction\n",
    "from nltk.tokenize import word_tokenize\n",
    "import math\n",
    "from collections import Counter \n",
    "from nltk.stem import WordNetLemmatizer  \n",
    "from nltk.corpus import stopwords\n"
   ]
  },
  {
   "cell_type": "markdown",
   "id": "24c5297f",
   "metadata": {},
   "source": [
    "# Importing Data"
   ]
  },
  {
   "cell_type": "code",
   "execution_count": 86,
   "id": "2c099159",
   "metadata": {},
   "outputs": [],
   "source": [
    "df = pd.read_csv('mail_data.csv')\n",
    "df2 = pd.read_csv(\"completeSpamAssassin.csv\")"
   ]
  },
  {
   "cell_type": "code",
   "execution_count": 87,
   "id": "8efc75b7",
   "metadata": {},
   "outputs": [],
   "source": [
    "\n",
    "# df2[df2['Label'] == 1]\n",
    "df2 = df2.rename(columns={\n",
    "    'Label' : 'Category',\n",
    "    'Body' :  'Message'\n",
    "})\n",
    "df2 = df2.loc[:,['Category','Message']];\n",
    "df2 = df2[df2['Category'] == 1];\n",
    "\n",
    "\n"
   ]
  },
  {
   "cell_type": "markdown",
   "id": "3b78f2c5",
   "metadata": {},
   "source": [
    "# Analyzing Data"
   ]
  },
  {
   "cell_type": "code",
   "execution_count": 88,
   "id": "6387ff2d",
   "metadata": {
    "scrolled": true
   },
   "outputs": [
    {
     "name": "stdout",
     "output_type": "stream",
     "text": [
      "<class 'pandas.core.frame.DataFrame'>\n",
      "RangeIndex: 5572 entries, 0 to 5571\n",
      "Data columns (total 2 columns):\n",
      " #   Column    Non-Null Count  Dtype \n",
      "---  ------    --------------  ----- \n",
      " 0   Category  5572 non-null   object\n",
      " 1   Message   5572 non-null   object\n",
      "dtypes: object(2)\n",
      "memory usage: 87.2+ KB\n",
      "Number of Null values : 0\n",
      "  Category                                            Message\n",
      "0        0  Go until jurong point, crazy.. Available only ...\n",
      "1        0                      Ok lar... Joking wif u oni...\n",
      "2        1  Free entry in 2 a wkly comp to win FA Cup fina...\n",
      "3        0  U dun say so early hor... U c already then say...\n",
      "4        0  Nah I don't think he goes to usf, he lives aro...\n",
      "5        1  FreeMsg Hey there darling it's been 3 week's n...\n",
      "6        0  Even my brother is not like to speak with me. ...\n",
      "7        0  As per your request 'Melle Melle (Oru Minnamin...\n",
      "8        1  WINNER!! As a valued network customer you have...\n",
      "9        1  Had your mobile 11 months or more? U R entitle...\n",
      "These are features  :  0       Go until jurong point, crazy.. Available only ...\n",
      "1                           Ok lar... Joking wif u oni...\n",
      "2       Free entry in 2 a wkly comp to win FA Cup fina...\n",
      "3       U dun say so early hor... U c already then say...\n",
      "4       Nah I don't think he goes to usf, he lives aro...\n",
      "                              ...                        \n",
      "1891    \\nWant To Be Your Own Boss? Â  Train Now With ...\n",
      "1892                                                empty\n",
      "1893    Dear Subscriber,If I could show you a way to g...\n",
      "1894    ****Mid-Summer Customer Appreciation SALE!****...\n",
      "1895    ATTN:SIR/MADAN                            STRI...\n",
      "Name: Message, Length: 7468, dtype: object\n",
      "These are labels :   0       0\n",
      "1       0\n",
      "2       1\n",
      "3       0\n",
      "4       0\n",
      "       ..\n",
      "1891    1\n",
      "1892    1\n",
      "1893    1\n",
      "1894    1\n",
      "1895    1\n",
      "Name: Category, Length: 7468, dtype: object\n"
     ]
    },
    {
     "data": {
      "image/png": "[encoded data removed]",
      "text/plain": [
       "<Figure size 640x480 with 1 Axes>"
      ]
     },
     "metadata": {},
     "output_type": "display_data"
    }
   ],
   "source": [
    "df.describe().T\n",
    "\n",
    "df.info(verbose = True,show_counts = True)\n",
    "\n",
    "# checking for NULL values\n",
    "\n",
    "print(f'Number of Null values : {df.isnull().sum().sum()}');\n",
    "\n",
    "# tranforming labels to numerical values  0 -> non-spam , 1 -> spam \n",
    "\n",
    "df.loc[df['Category'] == 'spam' , 'Category'] = 1;\n",
    "\n",
    "df.loc[df['Category'] == 'ham' , 'Category'] = 0;\n",
    "\n",
    "\n",
    "# merging data\n",
    "df = pd.concat([df,df2]);\n",
    "\n",
    "\n",
    "\n",
    "df['Message'] = df['Message'].fillna('');\n",
    "df = df.dropna(subset=['Message','Category']);\n",
    "\n",
    "\n",
    "sns.histplot(data = df['Category']);\n",
    "\n",
    "print(df.head(n = 10))\n",
    "\n",
    "# splitting to features and labels\n",
    "\n",
    "features = df['Message']; \n",
    "\n",
    "label = df['Category'];\n",
    "\n",
    "print(\"These are features  : \",features)\n",
    "\n",
    "print(\"These are labels :  \" , label)\n",
    "\n",
    "# splitting data to (train,test)  data\n",
    "\n"
   ]
  },
  {
   "cell_type": "code",
   "execution_count": 89,
   "id": "7031378a",
   "metadata": {},
   "outputs": [],
   "source": [
    "\n",
    "x_train , x_test , y_train , y_test = train_test_split(features , label , test_size = 0.2 , random_state = 40);\n"
   ]
  },
  {
   "cell_type": "markdown",
   "id": "15133845",
   "metadata": {},
   "source": [
    "# Tokenizing & extracting features"
   ]
  },
  {
   "cell_type": "code",
   "execution_count": 90,
   "id": "00534621",
   "metadata": {},
   "outputs": [
    {
     "name": "stdout",
     "output_type": "stream",
     "text": [
      "275                       No objection. My bf not coming.\n",
      "832     Hi mate its RV did u hav a nice hol just a mes...\n",
      "2844    Tunji, how's the queen? how are you doing. Thi...\n",
      "1481                    Have you always been saying welp?\n",
      "1757    Lmao ok I wont be needing u to do my hair anym...\n",
      "                              ...                        \n",
      "3064    Hi babe its Jordan, how r u? Im home from abro...\n",
      "737                                                 empty\n",
      "579     Snoring problems? Let Snore\\nEliminator's all ...\n",
      "791     The World's #1 On-line PharmacyOrder from the ...\n",
      "3398                         Heehee that was so funny tho\n",
      "Name: Message, Length: 5974, dtype: object\n",
      "These are the features :  ['00' '000' '000000' ... '½wï' '½zï' '½ï']\n",
      " Those are the extracted numerical data & Labels :  (5974, 3254) 275     0\n",
      "832     0\n",
      "2844    0\n",
      "1481    0\n",
      "1757    0\n",
      "       ..\n",
      "3064    1\n",
      "737     1\n",
      "579     1\n",
      "791     1\n",
      "3398    0\n",
      "Name: Category, Length: 5974, dtype: int64\n"
     ]
    }
   ],
   "source": [
    "# nltk.download('stopwords');\n",
    "# nltk.download('punkt');\n",
    "# word tokenization + removing non-alpha caracters + removing stop words + Lemmatization\n",
    "# df['tokens'] = df['Message'].apply(word_tokenize);\n",
    "# df['tokens'] = df['tokens'].apply(lambda arr : [token.lower() for token in arr if token not in stopwords.words('english') and token.isalpha() ])\n",
    "\n",
    "# df['Message'] = df['Message'].fillna('');\n",
    "\n",
    "vecto = TfidfVectorizer(min_df = 10 , stop_words = 'english' , lowercase = True);\n",
    "\n",
    "print(x_train);\n",
    "\n",
    "\n",
    "x_train_num = np.array(vecto.fit_transform(x_train).toarray());\n",
    "\n",
    "x_test_num = vecto.transform(x_test)\n",
    "\n",
    "y_train = y_train.astype('int')\n",
    "\n",
    "y_test = y_test.astype('int')\n",
    "\n",
    "\n",
    "print(\"These are the features : \" , vecto.get_feature_names_out());\n",
    "\n",
    "print(\" Those are the extracted numerical data & Labels : \"  , x_train_num.shape , y_train  );\n",
    "\n",
    "\n"
   ]
  },
  {
   "cell_type": "markdown",
   "id": "ddc59839",
   "metadata": {},
   "source": [
    "# Training the model & testing using scikit learn\n"
   ]
  },
  {
   "cell_type": "code",
   "execution_count": 91,
   "id": "0225761b",
   "metadata": {},
   "outputs": [
    {
     "name": "stdout",
     "output_type": "stream",
     "text": [
      "0.9344042838018741\n",
      "0.8369565217391305\n"
     ]
    }
   ],
   "source": [
    "model = LogisticRegression();\n",
    "\n",
    "model.fit(x_train_num,y_train);\n",
    "\n",
    "# testing our model\n",
    "\n",
    "x_test_prediction = model.predict(x_test_num);\n",
    "\n",
    "print(accuracy_score(y_test,x_test_prediction));\n",
    "\n",
    "# recall calc \n",
    "\n",
    "print(recall_score(y_test , x_test_prediction));\n",
    "\n"
   ]
  },
  {
   "cell_type": "markdown",
   "id": "30be4616",
   "metadata": {},
   "source": [
    "# Spam / ham mail prediction"
   ]
  },
  {
   "cell_type": "code",
   "execution_count": 97,
   "id": "40a62077",
   "metadata": {},
   "outputs": [
    {
     "name": "stdout",
     "output_type": "stream",
     "text": [
      "the mail is : Ham\n"
     ]
    }
   ],
   "source": [
    "# mail = [\"You have earned 300$ , pay 100$ to get it !! . consider subsribing to this email for more opportunities in the near future !!\"];\n",
    "mail = [\"that is crap\"]\n",
    "\n",
    "# tfidf vectorizing mail : \n",
    "\n",
    "# vecto.fit(mail) \n",
    "\n",
    "mail_num = vecto.transform(mail);\n",
    "        \n",
    "pre = model.predict(mail_num);\n",
    "\n",
    "if pre == 1 :\n",
    "    print(\"the Mail is a  : spam \");\n",
    "else:\n",
    "    print(\"the mail is : Ham\") \n",
    "    \n",
    "\n",
    "\n"
   ]
  }
 ],
 "metadata": {
  "kernelspec": {
   "display_name": "Python 3 (ipykernel)",
   "language": "python",
   "name": "python3"
  },
  "language_info": {
   "codemirror_mode": {
    "name": "ipython",
    "version": 3
   },
   "file_extension": ".py",
   "mimetype": "text/x-python",
   "name": "python",
   "nbconvert_exporter": "python",
   "pygments_lexer": "ipython3",
   "version": "3.10.12"
  }
 },
 "nbformat": 4,
 "nbformat_minor": 5
}
