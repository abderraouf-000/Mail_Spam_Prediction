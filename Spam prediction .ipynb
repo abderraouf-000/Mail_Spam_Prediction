{
 "cells": [
  {
   "cell_type": "markdown",
   "id": "7a4eb6ac",
   "metadata": {},
   "source": [
    "# Importing needed libraries"
   ]
  },
  {
   "cell_type": "code",
   "execution_count": 74,
   "id": "c6828512",
   "metadata": {},
   "outputs": [],
   "source": [
    "import numpy as np\n",
    "import seaborn as sns\n",
    "import pandas as pd\n",
    "import nltk\n",
    "import matplotlib.pyplot as plt\n",
    "import sklearn.datasets as sd\n",
    "from sklearn.linear_model import LogisticRegression\n",
    "from sklearn.metrics import accuracy_score , recall_score\n",
    "from sklearn.model_selection import train_test_split \n",
    "from sklearn.feature_extraction.text import TfidfVectorizer\n",
    "import sklearn.feature_extraction\n",
    "from nltk.tokenize import word_tokenize\n",
    "import math\n",
    "from collections import Counter \n",
    "from nltk.stem import WordNetLemmatizer  \n",
    "from nltk.corpus import stopwords\n"
   ]
  },
  {
   "cell_type": "markdown",
   "id": "24c5297f",
   "metadata": {},
   "source": [
    "# Importing Data"
   ]
  },
  {
   "cell_type": "code",
   "execution_count": 75,
   "id": "2c099159",
   "metadata": {},
   "outputs": [],
   "source": [
    "df = pd.read_csv('mail_data.csv')"
   ]
  },
  {
   "cell_type": "markdown",
   "id": "3b78f2c5",
   "metadata": {},
   "source": [
    "# Analyzing Data"
   ]
  },
  {
   "cell_type": "code",
   "execution_count": 76,
   "id": "6387ff2d",
   "metadata": {
    "scrolled": true
   },
   "outputs": [
    {
     "name": "stdout",
     "output_type": "stream",
     "text": [
      "<class 'pandas.core.frame.DataFrame'>\n",
      "RangeIndex: 5572 entries, 0 to 5571\n",
      "Data columns (total 2 columns):\n",
      " #   Column    Non-Null Count  Dtype \n",
      "---  ------    --------------  ----- \n",
      " 0   Category  5572 non-null   object\n",
      " 1   Message   5572 non-null   object\n",
      "dtypes: object(2)\n",
      "memory usage: 87.2+ KB\n",
      "Number of Null values : 0\n",
      "  Category                                            Message\n",
      "0        0  Go until jurong point, crazy.. Available only ...\n",
      "1        0                      Ok lar... Joking wif u oni...\n",
      "2        1  Free entry in 2 a wkly comp to win FA Cup fina...\n",
      "3        0  U dun say so early hor... U c already then say...\n",
      "4        0  Nah I don't think he goes to usf, he lives aro...\n",
      "5        1  FreeMsg Hey there darling it's been 3 week's n...\n",
      "6        0  Even my brother is not like to speak with me. ...\n",
      "7        0  As per your request 'Melle Melle (Oru Minnamin...\n",
      "8        1  WINNER!! As a valued network customer you have...\n",
      "9        1  Had your mobile 11 months or more? U R entitle...\n",
      "These are features  :  0       Go until jurong point, crazy.. Available only ...\n",
      "1                           Ok lar... Joking wif u oni...\n",
      "2       Free entry in 2 a wkly comp to win FA Cup fina...\n",
      "3       U dun say so early hor... U c already then say...\n",
      "4       Nah I don't think he goes to usf, he lives aro...\n",
      "                              ...                        \n",
      "5567    This is the 2nd time we have tried 2 contact u...\n",
      "5568                 Will ü b going to esplanade fr home?\n",
      "5569    Pity, * was in mood for that. So...any other s...\n",
      "5570    The guy did some bitching but I acted like i'd...\n",
      "5571                           Rofl. Its true to its name\n",
      "Name: Message, Length: 5572, dtype: object\n",
      "These are labels :   0       0\n",
      "1       0\n",
      "2       1\n",
      "3       0\n",
      "4       0\n",
      "       ..\n",
      "5567    1\n",
      "5568    0\n",
      "5569    0\n",
      "5570    0\n",
      "5571    0\n",
      "Name: Category, Length: 5572, dtype: object\n"
     ]
    },
    {
     "data": {
      "image/png": "[encoded data removed]",
      "text/plain": [
       "<Figure size 640x480 with 1 Axes>"
      ]
     },
     "metadata": {},
     "output_type": "display_data"
    }
   ],
   "source": [
    "df.describe().T\n",
    "\n",
    "df.info(verbose = True,show_counts = True)\n",
    "\n",
    "# checking for NULL values\n",
    "\n",
    "print(f'Number of Null values : {df.isnull().sum().sum()}');\n",
    "\n",
    "# tranforming labels to numerical values  0 -> non-spam , 1 -> spam \n",
    "\n",
    "df.loc[df['Category'] == 'spam' , 'Category'] = 1;\n",
    "\n",
    "df.loc[df['Category'] == 'ham' , 'Category'] = 0;\n",
    "\n",
    "sns.histplot(data = df['Category']);\n",
    "\n",
    "print(df.head(n = 10))\n",
    "\n",
    "# splitting to features and labels\n",
    "\n",
    "features = df['Message']; \n",
    "\n",
    "label = df['Category'];\n",
    "\n",
    "print(\"These are features  : \",features)\n",
    "\n",
    "print(\"These are labels :  \" , label)\n",
    "\n",
    "# splitting data to (train,test)  data\n",
    "\n",
    "x_train , x_test , y_train , y_test = train_test_split(features , label , test_size = 0.2 , random_state = 40);\n",
    "\n"
   ]
  },
  {
   "cell_type": "markdown",
   "id": "15133845",
   "metadata": {},
   "source": [
    "# Tokenizing & extracting features"
   ]
  },
  {
   "cell_type": "code",
   "execution_count": 77,
   "id": "00534621",
   "metadata": {},
   "outputs": [
    {
     "name": "stdout",
     "output_type": "stream",
     "text": [
      "These are the features :  ['00' '000' '02' ... 'yun' 'yup' 'zed']\n",
      " Those are the extracted numerical data & Labels :  (4457, 2215) 15      1\n",
      "1301    0\n",
      "3059    1\n",
      "3123    1\n",
      "1884    0\n",
      "       ..\n",
      "4722    0\n",
      "3340    0\n",
      "5426    0\n",
      "3064    1\n",
      "3398    0\n",
      "Name: Category, Length: 4457, dtype: int32\n"
     ]
    }
   ],
   "source": [
    "# nltk.download('stopwords');\n",
    "# nltk.download('punkt');\n",
    "# word tokenization + removing non-alpha caracters + removing stop words + Lemmatization\n",
    "# df['tokens'] = df['Message'].apply(word_tokenize);\n",
    "# df['tokens'] = df['tokens'].apply(lambda arr : [token.lower() for token in arr if token not in stopwords.words('english') and token.isalpha() ])\n",
    "\n",
    "vecto = TfidfVectorizer(min_df = 3 , stop_words = 'english' , lowercase = True);\n",
    "\n",
    "x_train_num = np.array(vecto.fit_transform(x_train).toarray());\n",
    "\n",
    "x_test_num = vecto.transform(x_test)\n",
    "\n",
    "y_train = y_train.astype('int')\n",
    "\n",
    "y_test = y_test.astype('int')\n",
    "\n",
    "\n",
    "print(\"These are the features : \" , vecto.get_feature_names_out());\n",
    "\n",
    "print(\" Those are the extracted numerical data & Labels : \"  , x_train_num.shape , y_train  );\n",
    "\n",
    "\n"
   ]
  },
  {
   "cell_type": "markdown",
   "id": "ddc59839",
   "metadata": {},
   "source": [
    "# Training the model & testing using scikit learn\n"
   ]
  },
  {
   "cell_type": "code",
   "execution_count": 78,
   "id": "0225761b",
   "metadata": {},
   "outputs": [
    {
     "name": "stdout",
     "output_type": "stream",
     "text": [
      "0.9704035874439462\n",
      "0.7916666666666666\n"
     ]
    }
   ],
   "source": [
    "model = LogisticRegression();\n",
    "\n",
    "model.fit(x_train_num,y_train);\n",
    "\n",
    "# testing our model\n",
    "\n",
    "x_test_prediction = model.predict(x_test_num);\n",
    "\n",
    "print(accuracy_score(y_test,x_test_prediction));\n",
    "\n",
    "# recall calc \n",
    "\n",
    "print(recall_score(y_test , x_test_prediction));\n",
    "\n"
   ]
  },
  {
   "cell_type": "markdown",
   "id": "30be4616",
   "metadata": {},
   "source": [
    "# Spam / ham mail prediction"
   ]
  },
  {
   "cell_type": "code",
   "execution_count": 85,
   "id": "40a62077",
   "metadata": {},
   "outputs": [
    {
     "name": "stdout",
     "output_type": "stream",
     "text": [
      "  (0, 2189)\t0.25096113922840113\n",
      "  (0, 2166)\t0.24671204757113105\n",
      "  (0, 2164)\t0.23622788795843708\n",
      "  (0, 2161)\t0.25574267781882154\n",
      "  (0, 2065)\t0.19325282235570754\n",
      "  (0, 1954)\t0.24288861434583395\n",
      "  (0, 1925)\t0.2377873881238193\n",
      "  (0, 1679)\t0.2977123577916796\n",
      "  (0, 1630)\t0.19856727210263866\n",
      "  (0, 1528)\t0.569716588637384\n",
      "  (0, 1345)\t0.25574267781882154\n",
      "  (0, 932)\t0.21732927998928006\n",
      "  (0, 878)\t0.1917926784206866\n",
      "['00' '000' '02' ... 'yun' 'yup' 'zed']\n",
      "the mail is : Ham\n"
     ]
    }
   ],
   "source": [
    "# mail = [\"You have earned 300$ , pay 100$ to get it !! . consider subsribing to this email for more opportunities in the near future !!\"];\n",
    "mail = [\"I've been searching for the right words to thank you for this breather. I promise i wont take your help for granted and will fulfil my promise. You have been wonderful and a blessing at all times\"]\n",
    "\n",
    "# tfidf vectorizing mail : \n",
    "\n",
    "# vecto.fit(mail) \n",
    "\n",
    "mail_num = vecto.transform(mail);\n",
    "\n",
    "print(mail_num)\n",
    "\n",
    "# these are the extracted features : \n",
    "\n",
    "print(vecto.get_feature_names_out());\n",
    "        \n",
    "pre = model.predict(mail_num);\n",
    "\n",
    "if pre == 1 :\n",
    "    print(\"the Mail is a  : spam \");\n",
    "else:\n",
    "    print(\"the mail is : Ham\") \n",
    "    \n",
    "\n",
    "\n"
   ]
  },
  {
   "cell_type": "code",
   "execution_count": null,
   "id": "60414164",
   "metadata": {},
   "outputs": [],
   "source": []
  },
  {
   "cell_type": "code",
   "execution_count": null,
   "id": "9b27741b",
   "metadata": {},
   "outputs": [],
   "source": []
  },
  {
   "cell_type": "code",
   "execution_count": null,
   "id": "136bcbeb",
   "metadata": {},
   "outputs": [],
   "source": []
  }
 ],
 "metadata": {
  "kernelspec": {
   "display_name": "Python 3 (ipykernel)",
   "language": "python",
   "name": "python3"
  },
  "language_info": {
   "codemirror_mode": {
    "name": "ipython",
    "version": 3
   },
   "file_extension": ".py",
   "mimetype": "text/x-python",
   "name": "python",
   "nbconvert_exporter": "python",
   "pygments_lexer": "ipython3",
   "version": "3.11.4"
  }
 },
 "nbformat": 4,
 "nbformat_minor": 5
}
